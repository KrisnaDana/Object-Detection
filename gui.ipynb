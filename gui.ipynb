{
 "cells": [
  {
   "cell_type": "code",
   "execution_count": 5,
   "metadata": {},
   "outputs": [],
   "source": [
    "import customtkinter as ctk\n",
    "from tkinter import filedialog as fd\n",
    "from PIL import Image, ImageTk\n",
    "\n",
    "ctk.set_appearance_mode(\"dark\")\n",
    "ctk.set_default_color_theme(\"blue\")\n",
    "\n",
    "class App(ctk.CTkToplevel):\n",
    "    def __init__(self):\n",
    "        super().__init__()\n",
    "        self.geometry = \"500x500\"\n",
    "        self.title(\"Object Detection With DETR\")\n",
    "        self.protocol(\"WM_DELETE_WINDOW\", self.on_close) #when WM_DELETE_WINDOW, call self.on_close()\n",
    "        self.write_file = False\n",
    "        self.result = None\n",
    "\n",
    "        # =========== making 2 frames ==========\n",
    "        self.grid_columnconfigure(1, weight=1)\n",
    "        self.grid_rowconfigure(0, weight=1)\n",
    "\n",
    "        self.frame_left = ctk.CTkFrame(master=self, width=200, corner_radius=0)\n",
    "        self.frame_left.grid(row=0, column=0, sticky=\"nswe\")\n",
    "\n",
    "        self.frame_right = ctk.CTkFrame(master=self)\n",
    "        self.frame_right.grid(row=0, column=1, sticky=\"nswe\", padx=10, pady=10)\n",
    "\n",
    "\n",
    "        self.frame_left.grid_rowconfigure(0, minsize=20) # going to the top\n",
    "        self.frame_left.grid_rowconfigure(5, weight=5) # giving it some space so that the next row will be on the bottom\n",
    "        self.frame_left.grid_rowconfigure(8, minsize=35) # spacing using minsize\n",
    "        # ========== configuring content =======\n",
    "\n",
    "        # =========== left frame ==============\n",
    "        self.input_label = ctk.CTkLabel(master=self.frame_left, text=\"Insert Image File\", text_font=(\"Roboto Medium\", 16))\n",
    "        self.input_label.grid(row=1, column=0, pady=15, padx=15, sticky=\"n\")\n",
    "\n",
    "        self.input_button = ctk.CTkButton(master=self.frame_left, text=\"Insert Image\", command=self.select_file)\n",
    "        self.input_button.grid(row=2, column=0, pady=15, padx=15, sticky=\"n\")\n",
    "\n",
    "        self.start_btn = ctk.CTkButton(master=self.frame_left, text=\"Start Process\", command=self.start_process, fg_color=\"green\", hover_color=\"green\", border_color=\"dark_green\")\n",
    "        self.start_btn.grid(row=3, column=0, padx=15, pady=15, sticky=\"n\")\n",
    "\n",
    "        # =========== Right frame ==============\n",
    "        \n",
    "\n",
    "    def select_file(self):\n",
    "        file_type = [('Image File', ['*.jpg', '*.jpeg', '*.png'])]\n",
    "        path_to_file = fd.askopenfilename(title=\"Select a image file\", filetypes=file_type)            \n",
    "        self.image = Image.open(path_to_file)\n",
    "    \n",
    "    def start_process(self):\n",
    "        try:\n",
    "            self.image_detect.grid_remove()\n",
    "        except:\n",
    "            _ = \"\"\n",
    "        finally:\n",
    "            photoImage = ImageTk.PhotoImage(self.image)\n",
    "            self.image_detect = ctk.CTkButton(master=self.frame_right, image=photoImage, text=\"\")\n",
    "            self.image_detect.image = photoImage\n",
    "            self.image_detect.grid(row=1, column=0, pady=15, padx=15, sticky=\"w\")\n",
    "\n",
    "    def on_close(self):\n",
    "        self.destroy()\n",
    "\n",
    "app = App()\n",
    "app.mainloop()"
   ]
  }
 ],
 "metadata": {
  "kernelspec": {
   "display_name": "Python 3",
   "language": "python",
   "name": "python3"
  },
  "language_info": {
   "codemirror_mode": {
    "name": "ipython",
    "version": 3
   },
   "file_extension": ".py",
   "mimetype": "text/x-python",
   "name": "python",
   "nbconvert_exporter": "python",
   "pygments_lexer": "ipython3",
   "version": "3.10.5"
  },
  "orig_nbformat": 4,
  "vscode": {
   "interpreter": {
    "hash": "8c3d4d9970fc5c09c50d9318a9c7fbf4d0159e4b28833276f5678ee22bded273"
   }
  }
 },
 "nbformat": 4,
 "nbformat_minor": 2
}
